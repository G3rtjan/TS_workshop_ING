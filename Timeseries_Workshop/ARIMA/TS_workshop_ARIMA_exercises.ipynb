{
 "cells": [
  {
   "cell_type": "markdown",
   "metadata": {},
   "source": [
    "# Time Series Workshop - ARIMA Exercises\n",
    "\n",
    "This notebook contains the exercises for the ARIMA section of the workshop.\n",
    "\n",
    "The exercises will cover the following topics:\n",
    "1. Visualizing your time series dataset _(3 minutes)_\n",
    "2. Splitting your time series data into train and test _(3 minutes)_\n",
    "3. Assessing the stationarity of your time series _(5 minutes)_\n",
    "4. Manually apply differencing to your time series _(5 minutes)_\n",
    "5. Perform model estimation with different parameter values _(5 minutes)_\n",
    "6. Implement the auto_arima() function to do the work for you _(5 minutes)_\n",
    "\n",
    "Run the code below to load the required packages and functions"
   ]
  },
  {
   "cell_type": "code",
   "execution_count": null,
   "metadata": {},
   "outputs": [],
   "source": [
    "import pandas as pd\n",
    "import numpy as np\n",
    "from matplotlib import pyplot\n",
    "from statsmodels.tsa.seasonal import seasonal_decompose\n",
    "from sklearn.metrics import mean_squared_error\n",
    "import pmdarima as pm\n",
    "from IPython.display import HTML, display\n",
    "import warnings\n",
    "warnings.simplefilter(action = 'ignore', category = FutureWarning)\n",
    "\n",
    "def create_manual_ARIMA_forecast(train, test, p = 1, d = 0, q = 0, P = 0, D = 0, Q = 0, m = 12):\n",
    "    # Estimate the model\n",
    "    model = pm.ARIMA(order = (p, d, q), seasonal_order = (P, D, Q, m))\n",
    "    try:\n",
    "        model.fit(train)\n",
    "    except ValueError:\n",
    "        print(\"Oops! With these settings the ARIMA function breaks. Please try again with different settings...\")\n",
    "        return\n",
    "    # Make forecast using the model\n",
    "    point_fc, conf_int = model.predict(n_periods = len(test), return_conf_int = True)\n",
    "    # Determine model performance\n",
    "    test_RMSE = np.sqrt(mean_squared_error(test, point_fc))\n",
    "    # Reformat forecast data\n",
    "    plot_data = pd.concat([train, test], axis = 0)\n",
    "    plot_data = pd.concat([plot_data, pd.DataFrame(point_fc, index = test.index, columns=[\"forecast\"])], axis = 1)\n",
    "    conf_int = pd.DataFrame(conf_int, index = test.index, columns=[\"lower_bound\", \"upper_bound\"])\n",
    "    # Create and show a plot of the forecast\n",
    "    plot_data.plot().set_title(f\"ARIMA forecast({p},{d},{q})({P},{D},{Q}){m} - test RMSE = {round(test_RMSE,1)}\")\n",
    "    pyplot.fill_between(conf_int.index, conf_int.lower_bound, conf_int.upper_bound, color = \"orange\", alpha=.1)\n",
    "    pyplot.show()\n",
    "    \n",
    "hide_solution_code = None\n",
    "HTML('''\n",
    "    <script>\n",
    "        code_show=true; \n",
    "        function code_toggle() {\n",
    "          if (code_show) {\n",
    "            $('div.input').each(function(id) {\n",
    "              el = $(this).find('.cm-variable:first');\n",
    "              if (el.text() == 'hide_solution_code') {\n",
    "                $(this).hide();\n",
    "              }\n",
    "            });\n",
    "            $('div.output_prompt').css('opacity', 0);\n",
    "          } else {\n",
    "            $('div.input').each(function(id) {\n",
    "              $(this).show();\n",
    "            });\n",
    "            $('div.output_prompt').css('opacity', 1);\n",
    "          }\n",
    "          code_show = !code_show\n",
    "        } \n",
    "        $( document ).ready(code_toggle);\n",
    "    </script>\n",
    "    <form class = \"main_button\" action=\"javascript:code_toggle()\">\n",
    "        <input type=\"submit\" value=\"Click here to toggle on/off the solution code for ALL exercises\">\n",
    "    </form>\n",
    "''')"
   ]
  },
  {
   "cell_type": "markdown",
   "metadata": {},
   "source": [
    "## Instruction\n",
    "\n",
    "For every exercise, you are strongly encouraged to:\n",
    "* **first**, try for yourself\n",
    "* **second**, ask one of your neighbors for help\n",
    "* **third**, as last resort, sneak a peak at the solution\n",
    "\n",
    "You can toggle the solution code by clicking the button above, **please click it to make sure the example solution below is hidden!**"
   ]
  },
  {
   "cell_type": "code",
   "execution_count": null,
   "metadata": {},
   "outputs": [],
   "source": [
    "hide_solution_code\n",
    "\n",
    "# PLEASE CLICK THE 'Click here to toggle ...' BUTTON ABOVE TO HIDE THIS AND ALL THE OTHER SOLUTIONS!\n"
   ]
  },
  {
   "cell_type": "markdown",
   "metadata": {},
   "source": [
    "## Loading the data\n",
    "\n",
    "We will be using a dataset from the pmdarima package:\n",
    "* Total wine sales by Australian wine makers\n",
    "* It has a monthly frequency\n",
    "* It ranges from January 1980 to August 1994\n",
    "\n",
    "Run the code below to load and prepare the dataset."
   ]
  },
  {
   "cell_type": "code",
   "execution_count": null,
   "metadata": {},
   "outputs": [],
   "source": [
    "data = pm.datasets.load_wineind(as_series = True)\n",
    "data.index = pd.to_datetime(data.index)\n",
    "data = data.to_frame('wine_sales')\n",
    "data.head()"
   ]
  },
  {
   "cell_type": "markdown",
   "metadata": {},
   "source": [
    "## Exercise 1:\n",
    "Visualize the time-series (using your own favorite way of plotting).\n",
    "\n",
    "_Available time: 3 minutes_"
   ]
  },
  {
   "cell_type": "code",
   "execution_count": null,
   "metadata": {},
   "outputs": [],
   "source": [
    "# INSERT YOUR CODE HERE\n",
    "\n",
    "\n"
   ]
  },
  {
   "cell_type": "code",
   "execution_count": null,
   "metadata": {
    "hide_input": true
   },
   "outputs": [],
   "source": [
    "# Possible solution\n",
    "'''\n",
    "# Standard line plot of the time-series\n",
    "data.plot()\n",
    "pyplot.show()\n",
    "# We can also decompose the time-series into Trend, Seasonal and Residual (mostly noise) components\n",
    "seasonal_decompose(data, model = 'additive').plot()\n",
    "pyplot.show()\n",
    "'''\n",
    "hide_solution_code"
   ]
  },
  {
   "cell_type": "markdown",
   "metadata": {},
   "source": [
    "## Splitting the data\n",
    "\n",
    "Before we start training any model, we should split our data into a train and test set.<br>\n",
    "Any decision we make should be based on the train set, as we assume we don't know anything about the test set.<br>\n",
    "The test set should only be used at the very end to evaluate the performance of our model.\n",
    "\n",
    "## Exercise 2:\n",
    "Split the data into:\n",
    "* a train set containing all wine sales until the end of 1990\n",
    "* a test set containing everything else\n",
    "\n",
    "**NOTE**: In time series forecasting, it's very important that your data is sorted (in ascending order) before you start splitting!\n",
    "\n",
    "_Available time: 3 minutes_"
   ]
  },
  {
   "cell_type": "code",
   "execution_count": null,
   "metadata": {},
   "outputs": [],
   "source": [
    "# INSERT YOUR CODE HERE\n",
    "\n",
    "\n"
   ]
  },
  {
   "cell_type": "code",
   "execution_count": null,
   "metadata": {},
   "outputs": [],
   "source": [
    "# Possible solution\n",
    "'''\n",
    "data = data.sort_index(ascending = True)\n",
    "train, test = data.loc[:'1990-12-01'], data['1991-01-01':]\n",
    "print(f\"Train set has length of {len(train)} months, from {min(train.index)} to {max(train.index)}\")\n",
    "print(f\"Test set has length of {len(test)} months, from {min(test.index)} to {max(test.index)}\")\n",
    "'''\n",
    "hide_solution_code"
   ]
  },
  {
   "cell_type": "markdown",
   "metadata": {},
   "source": [
    "## Non-seasonal ARIMA model parameters\n",
    "For simplicity, let's start with a non-seasonal ARIMA model, for which we would need to determine the following parameters:\n",
    "* p = order of the autoregressive part\n",
    "* d = degree of first differencing involved\n",
    "* q = order of the moving average part\n",
    "\n",
    "First step is to determine the number of times of differencing required to create a stationary time series (which it might already be!)\n",
    "\n",
    "## Exercise 3:\n",
    "Determine whether the time series is stationary or not, by:\n",
    "* Visually inspecting the time series (use your plot(s) from exercise one)\n",
    "* Testing for stationarity, using one or more of [the available statistical test in pmdarima](https://www.alkaline-ml.com/pmdarima/modules/classes.html#pmdarima-arima-arima-estimator-differencing-tests)\n",
    "\n",
    "**NOTE**: when drawing conclusions based on the statistical tests, ask yourself: _What is the null hypothesis I try to reject?_\n",
    "\n",
    "_Available time: 5 minutes_"
   ]
  },
  {
   "cell_type": "code",
   "execution_count": null,
   "metadata": {},
   "outputs": [],
   "source": [
    "# INSERT YOUR CODE HERE\n",
    "\n",
    "\n"
   ]
  },
  {
   "cell_type": "code",
   "execution_count": null,
   "metadata": {},
   "outputs": [],
   "source": [
    "# Possible solution\n",
    "'''\n",
    "# We can conduct a Kwiatkowski–Phillips–Schmidt–Shin (KPSS) test\n",
    "KPSS_test = pm.arima.stationarity.KPSSTest(alpha = 0.05)\n",
    "print(\n",
    "    f\"Results of the KPSS test:\\n\"\n",
    "    f\"pval:\\t{KPSS_test.is_stationary(train)[0]}\\n\"\n",
    "    f\"sig:\\t{KPSS_test.is_stationary(train)[1]}\\n\"\n",
    ")\n",
    "# True means we CAN REJECT the null hypothesis that the time-series IS stationary, so we need to do differencing\n",
    "# False means we CAN'T REJECT the null hypothesis that the time-series IS stationary, so we don't have to do differencing\n",
    "\n",
    "# We can also use a test which can indicate how many times we need to difference our data to make it stationary\n",
    "available_tests = ['adf', 'kpss', 'pp']\n",
    "print(\"Required differencing according to tests:\")\n",
    "for t in available_tests:\n",
    "    print(f\"{t}:\\t{pm.arima.utils.ndiffs(train, test = t)} differencing is required\")\n",
    "'''\n",
    "hide_solution_code"
   ]
  },
  {
   "cell_type": "markdown",
   "metadata": {},
   "source": [
    "## Differencing\n",
    "Irrespective of the outcomes in the previous exercise, let's assume we need to apply a first order difference to make the time series stationary.\n",
    "\n",
    "## Exercise 4\n",
    "Make the time series stationary, by:\n",
    "* Calculating the first order difference of the time series\n",
    "* Plotting the first order difference to assess whether it is indeed now stationary\n",
    "\n",
    "_Available time: 5 minutes_"
   ]
  },
  {
   "cell_type": "code",
   "execution_count": null,
   "metadata": {},
   "outputs": [],
   "source": [
    "# INSERT YOUR CODE HERE\n",
    "\n",
    "\n"
   ]
  },
  {
   "cell_type": "code",
   "execution_count": null,
   "metadata": {},
   "outputs": [],
   "source": [
    "# Possible solution\n",
    "'''\n",
    "print(\"First we add a new column, which is a lagged (shifted down by one) version of the wine_sales column:\")\n",
    "train_lagged = train.rename(columns={'wine_sales': 'wine_sales_lagged'}).shift(1)\n",
    "train_lagged = pd.concat([train, train_lagged], axis = 1)\n",
    "print(train_lagged.head())\n",
    "\n",
    "print(\"\\nThen we use the lagged column to calculate the first order difference:\")\n",
    "train_diff = train_lagged.assign(wine_sales_diff = train_lagged['wine_sales'] - train_lagged['wine_sales_lagged'])\n",
    "print(train_diff.head())\n",
    "\n",
    "print(\"\\nFinally we loose the first row, which no longer contains data and keep only the differenced column:\")\n",
    "train_diff = train_diff[['wine_sales_diff']][1:]\n",
    "print(train_diff.head())\n",
    "\n",
    "print(\"\\nLet's reapply the available tests to see if more differencing is required:\")\n",
    "available_tests = ['adf', 'kpss', 'pp']\n",
    "for t in available_tests:\n",
    "    print(f\"{t}:\\t{pm.arima.utils.ndiffs(train_diff, test = t)} differencing is required\")\n",
    "\n",
    "print(\"\\nAnd finish with a plot to visually inspect whether out time series is now stationary:\")\n",
    "train_diff.plot()\n",
    "pyplot.show()\n",
    "\n",
    "print(\"It seems to be stationary with regards to the mean, but maybe not entirely stationary with regards to the variance\\n(but for simplicity, we will ignore this for now)\")\n",
    "'''\n",
    "hide_solution_code"
   ]
  },
  {
   "cell_type": "markdown",
   "metadata": {},
   "source": [
    "## Model estimation of seasonal ARIMA\n",
    "Given the results from Exercise 3 and Exercise 4, we now know one of the parameters (d = 1) of the ARIMA model.<br>\n",
    "We also know what we have monthly data, which means that there are 12 periods (months) in a year (so m = 12).<br>\n",
    "\n",
    "However, we don't know yet what the other parameters (p, q, P, D, Q) should be.<br>\n",
    "There are of course ways to analytically determine these as well, but for now let's just play around with some values.\n",
    "\n",
    "## Exercise 5\n",
    "Using the *create_manual_ARIMA_forecast()* function and values d = 1 and m = 12, play around with the other parameters to minimise the Root Mean Square Error (RMSE) on the test set (which is automatically reported in the output of the function).\n",
    "\n",
    "**NOTE**: use the original (undifferenced) train data, as the function will do the differencing for us.\n",
    "\n",
    "_Available time: 5 minutes_"
   ]
  },
  {
   "cell_type": "code",
   "execution_count": null,
   "metadata": {},
   "outputs": [],
   "source": [
    "# Adjust/copy the code below to try out different combinations of parameters\n",
    "create_manual_ARIMA_forecast(train, test, p=0, d=1, q=0, P=0, D=0, Q=0, m=12)\n",
    "\n"
   ]
  },
  {
   "cell_type": "markdown",
   "metadata": {},
   "source": [
    "## Automatic model selection\n",
    "As discussed in the presentation, there is also an *auto_arima()* function available in the pmdarima package.<br>\n",
    "Documentation on the function is available [here](https://www.alkaline-ml.com/pmdarima/modules/generated/pmdarima.arima.auto_arima.html#pmdarima.arima.auto_arima), more information on the algorithm itself is available [here](https://otexts.com/fpp2/arima-r.html).\n",
    "\n",
    "## Exercise 6\n",
    "Implement the pm.auto_arima() function to automatically determine the 'optimal' model.\n",
    "\n",
    "**NOTE**: run the function with *trace = True* to get status updates, you can use *error_action = 'ignore'* and *suppress_warnings = True* to hide some of the verbose errors/warnings.\n",
    "\n",
    "_Available time: 5 minutes_"
   ]
  },
  {
   "cell_type": "code",
   "execution_count": null,
   "metadata": {},
   "outputs": [],
   "source": [
    "# INSERT YOUR CODE HERE\n",
    "\n",
    "\n"
   ]
  },
  {
   "cell_type": "code",
   "execution_count": null,
   "metadata": {},
   "outputs": [],
   "source": [
    "# Possible solution\n",
    "'''\n",
    "# Use auto_arima to do model selection\n",
    "model = pm.auto_arima(\n",
    "    # Provide (monthly) dataset\n",
    "    y = train, \n",
    "    m = 12, \n",
    "    # Set (p, d, q) ranges\n",
    "    start_p = 1, max_p = 3,\n",
    "    d = 1, max_d = 2,\n",
    "    start_q = 1, max_q = 3,\n",
    "    # Set (P, D, Q) ranges\n",
    "    start_P = 0, max_P = 2,\n",
    "    D = 1, max_D = 1, \n",
    "    start_Q = 0, max_Q = 2,\n",
    "    # Use the corrected AIC\n",
    "    information_criterion = 'aicc',    \n",
    "    # Use stepwise to limit runtime\n",
    "    stepwise = True,\n",
    "    # Set verbose\n",
    "    trace = True,\n",
    "    error_action = 'ignore',  \n",
    "    suppress_warnings = True\n",
    ")\n",
    "print(f\"\\nFinal model has order (p, d, q) of {model.get_params()['order']}\")\n",
    "print(f\"Final model has seasonal order (P, D, Q, m) of {model.get_params()['seasonal_order']}\")\n",
    "print(f\"Final model has AICc of {round(model.aicc(),1)}\")\n",
    "test_RMSE = np.sqrt(mean_squared_error(test, model.predict(n_periods = len(test))))\n",
    "print(f\"Final model has test RMSE of {round(test_RMSE,1)}\")\n",
    "# Lets also visualize our final model\n",
    "create_manual_ARIMA_forecast(train, test, p=1, d=1, q=1, P=0, D=1, Q=1, m=12)\n",
    "'''\n",
    "hide_solution_code"
   ]
  }
 ],
 "metadata": {
  "kernelspec": {
   "display_name": "Python 3",
   "language": "python",
   "name": "python3"
  },
  "language_info": {
   "codemirror_mode": {
    "name": "ipython",
    "version": 3
   },
   "file_extension": ".py",
   "mimetype": "text/x-python",
   "name": "python",
   "nbconvert_exporter": "python",
   "pygments_lexer": "ipython3",
   "version": "3.6.6"
  }
 },
 "nbformat": 4,
 "nbformat_minor": 2
}
