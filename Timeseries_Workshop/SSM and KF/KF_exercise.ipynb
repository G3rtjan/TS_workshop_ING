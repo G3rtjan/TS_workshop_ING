{
 "cells": [
  {
   "cell_type": "markdown",
   "metadata": {},
   "source": [
    "# Kalman filter exercise\n",
    "\n",
    "> Joris de Wind (1:1 Analytics, DBNL)\n",
    "\n",
    "In this exercise you will play around with state space models and the Kalman filter. You will make use of the `quantecon`."
   ]
  },
  {
   "cell_type": "code",
   "execution_count": null,
   "metadata": {},
   "outputs": [],
   "source": [
    "# standard imports\n",
    "import numpy as np\n",
    "import pandas as pd\n",
    "import matplotlib.pyplot as plt"
   ]
  },
  {
   "cell_type": "markdown",
   "metadata": {},
   "source": [
    "## Exercise 1\n",
    "\n",
    "In this first exercise you will play around with the data for the ING stock price. You will use the local level model to discover the fundamental value, basically filtering out the noise.\n",
    "\n",
    "### Local level model\n",
    "\n",
    "LLM (a.k.a. the \"Hello world\" of state space models):\n",
    "\n",
    "> $y_t = m_t + \\varepsilon_t$ with $\\varepsilon_t \\sim N(0, \\sigma_{\\varepsilon}^{2})$\n",
    "\n",
    "> $m_t = m_{t-1} + \\upsilon_t$ with $\\upsilon_t \\sim N(0, \\sigma_{\\upsilon}^{2})$\n",
    "\n",
    "> $m_0 \\sim N(a, P)$\n",
    "\n",
    "- We observe the data (y), but *not* the underlying state (m)\n",
    "- There are both shocks with temporary effects (e) as well as structural shocks with permanent effects (u)\n",
    "\n",
    "### Exercises\n",
    "\n",
    "1. Load the data from the file \"ING.csv\"\n",
    "2. Take the closing prices, and save them in a numpy array\n",
    "3. Import the `LinearStateSpace` and `Kalman` classes from the `quantecon` package\n",
    "4. Look at the documentation of the `LinearStateSpace` class, and define the above local level model with $\\sigma_{\\varepsilon} = 0.2$ and $\\sigma_{\\upsilon} = 0.001$\n",
    "5. Initialize the `Kalman` class with flat prior, i.e. $\\hat{x} = 0$ and $\\Sigma = 10^7$\n",
    "6. Write a for loop to estimate the underlying state using the `Kalman.update` method\n",
    "7. Plot the ING stock price together with the estimated fundamental value"
   ]
  },
  {
   "cell_type": "markdown",
   "metadata": {},
   "source": [
    "### Colab users need the next two cells"
   ]
  },
  {
   "cell_type": "code",
   "execution_count": null,
   "metadata": {},
   "outputs": [],
   "source": [
    "# from google.colab import files\n",
    "# uploaded = files.upload()"
   ]
  },
  {
   "cell_type": "code",
   "execution_count": null,
   "metadata": {},
   "outputs": [],
   "source": [
    "# import io\n",
    "# import pandas as pd\n",
    "# df = pd.read_csv(io.BytesIO(uploaded[\"ING.csv\"]))\n",
    "# df.head()"
   ]
  },
  {
   "cell_type": "code",
   "execution_count": null,
   "metadata": {},
   "outputs": [],
   "source": [
    "# 1.1\n"
   ]
  },
  {
   "cell_type": "code",
   "execution_count": null,
   "metadata": {},
   "outputs": [],
   "source": [
    "# 1.2\n"
   ]
  },
  {
   "cell_type": "code",
   "execution_count": null,
   "metadata": {},
   "outputs": [],
   "source": [
    "# 1.3\n"
   ]
  },
  {
   "cell_type": "code",
   "execution_count": null,
   "metadata": {},
   "outputs": [],
   "source": [
    "# 1.4\n"
   ]
  },
  {
   "cell_type": "code",
   "execution_count": null,
   "metadata": {},
   "outputs": [],
   "source": [
    "# 1.5\n"
   ]
  },
  {
   "cell_type": "code",
   "execution_count": null,
   "metadata": {},
   "outputs": [],
   "source": [
    "# 1.6\n",
    "xhat = np.zeros(len(y))\n",
    "for t in range(len(y)):\n",
    "    XXX"
   ]
  },
  {
   "cell_type": "code",
   "execution_count": null,
   "metadata": {},
   "outputs": [],
   "source": [
    "# 1.7\n"
   ]
  },
  {
   "cell_type": "markdown",
   "metadata": {},
   "source": [
    "## Exercise 2 - distinguishing between temporary and structural shocks\n",
    "\n",
    "0. The data is already given by the vector y\n",
    "1. Define the local level model with $\\sigma_{\\varepsilon} = 0.1$ and $\\sigma_{\\upsilon} = 0.1$, and initialize the `Kalman` class with flat prior, i.e. $\\hat{x} = 0$ and $\\Sigma = 10^7$\n",
    "2. Write a for loop to estimate the underlying state using the `Kalman.update` method, and plot the result\n",
    "3. Play around with the signal-to-noise ratio, i.e. the ratio $\\frac{\\sigma_{\\upsilon}}{\\sigma_{\\varepsilon}}$, and try to understand the consequences on the learning speed"
   ]
  },
  {
   "cell_type": "code",
   "execution_count": null,
   "metadata": {},
   "outputs": [],
   "source": [
    "# creating data\n",
    "y = np.ones((20, 1))\n",
    "y[12:20] = 1.2\n",
    "np.random.seed(127)\n",
    "y += np.random.randn(20, 1) * 0.01  # add some noise"
   ]
  },
  {
   "cell_type": "code",
   "execution_count": null,
   "metadata": {},
   "outputs": [],
   "source": [
    "# 2.1\n"
   ]
  },
  {
   "cell_type": "code",
   "execution_count": null,
   "metadata": {},
   "outputs": [],
   "source": []
  },
  {
   "cell_type": "code",
   "execution_count": null,
   "metadata": {},
   "outputs": [],
   "source": [
    "# 2.2\n",
    "xhat = np.zeros(len(y))\n",
    "for t in range(len(y)):\n",
    "    XXX"
   ]
  },
  {
   "cell_type": "code",
   "execution_count": null,
   "metadata": {},
   "outputs": [],
   "source": []
  },
  {
   "cell_type": "markdown",
   "metadata": {},
   "source": [
    "## Bonus exercise for the techies\n",
    "\n",
    "1. Derive the formulae for the filtering step (use the well-known matching coefficients trick to combine two Gaussian densities)\n",
    "2. If you successfully finished the derivations for the filtering step, it should be relatively straightforward to derive the formulae for the prediction step"
   ]
  }
 ],
 "metadata": {
  "kernelspec": {
   "display_name": "Python 3",
   "language": "python",
   "name": "python3"
  },
  "language_info": {
   "codemirror_mode": {
    "name": "ipython",
    "version": 3
   },
   "file_extension": ".py",
   "mimetype": "text/x-python",
   "name": "python",
   "nbconvert_exporter": "python",
   "pygments_lexer": "ipython3",
   "version": "3.7.0"
  }
 },
 "nbformat": 4,
 "nbformat_minor": 2
}
