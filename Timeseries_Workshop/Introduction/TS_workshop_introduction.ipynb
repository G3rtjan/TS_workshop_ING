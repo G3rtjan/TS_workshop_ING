{
 "cells": [
  {
   "cell_type": "markdown",
   "metadata": {
    "slideshow": {
     "slide_type": "slide"
    }
   },
   "source": [
    "\n",
    "# Welcome to the Time Series Workshop!\n"
   ]
  },
  {
   "cell_type": "markdown",
   "metadata": {
    "slideshow": {
     "slide_type": "slide"
    }
   },
   "source": [
    "## Who Are We?\n",
    "\n",
    "All data scientists, from different parts of ING\n",
    "\n",
    "* Joris de Wind (1-1 Analytics)  \n",
    "\n",
    "* Artur Usov (IAA) \n",
    "\n",
    "* Gertjan van den Bos (FAA) \n",
    "\n",
    "* Mehmet Kutluay (FAA) \n"
   ]
  },
  {
   "cell_type": "markdown",
   "metadata": {
    "slideshow": {
     "slide_type": "slide"
    }
   },
   "source": [
    "## Why Are We Doing This?\n",
    "\n",
    "A lot of data in ING is time-stamped and regularly spaced. For instance: \n",
    "* Daily cash withdrawals\n",
    "* Weekly transacations between corporate accounts \n",
    "* Monthly risk-weighted assets figures\n",
    "\n",
    "However there are not that many people (around us) using time series analysis \n",
    "\n",
    "So, we decided to organize this workshop!"
   ]
  },
  {
   "cell_type": "markdown",
   "metadata": {
    "slideshow": {
     "slide_type": "slide"
    }
   },
   "source": [
    "\n",
    "## Wait.. wait.. What is a \"Time Series\"?\n",
    "\n",
    "A time series is a series of data points that are indexed in time. For instance, the monthly total number of airline passengers:\n",
    "\n",
    "<img src=\"figures/airpassengers.png\" width=\"300\">\n",
    "\n",
    "The series itself holds quite a lot of interesting information, like: \n",
    "* The number of air passengers has largely increased over time \n",
    "* There are cyclical booms and busts"
   ]
  },
  {
   "cell_type": "markdown",
   "metadata": {
    "slideshow": {
     "slide_type": "subslide"
    }
   },
   "source": [
    "## What isn't \"Time Series\"\n",
    "\n",
    "Just because observations are time stamped, or are in relation to time, doesn't make them automatically a time series. Some examples are:\n",
    "\n",
    "* Duration Analysis $\\rightarrow$ the variable of interest is the amount of time it took for something to happen \n",
    " * Mainly used in medical research (e.g. the amount of time it took for patients to die from a certain illness)\n",
    " * Another example: amount of time it takes for characters to die in *Game of Thrones*, [see here](https://arxiv.org/ftp/arxiv/papers/1802/1802.04161.pdf)\n",
    "* Continuous Time Models $\\rightarrow$  there are no spaces between the time stamps \n",
    " * We resort to calculus in order to start modelling the data generating process \n",
    "   * The delta of a value between today and yesterday becomes the partial/complete differentiation of that value with respect to time \n",
    "   * Estimating the parameters of this has it's own advantages and disadvantages. But this is out of the scope for this workshop\n",
    "\n",
    "To make our definition clearer, we will be focusing on **regularly spaced** and **discrete** time-stamped data series."
   ]
  },
  {
   "cell_type": "markdown",
   "metadata": {
    "slideshow": {
     "slide_type": "subslide"
    }
   },
   "source": [
    "## Time Series (Friendly) Analysis\n",
    "\n",
    "A gentle first start is to visualize the trend and seasonality we see:\n",
    "\n",
    "<img src=\"figures/AirPassengers_decompose.png\" width=\"300\">\n",
    "\n",
    "However, we would like to do some further digging, uncover some insights about these air passengers: \n",
    "* Are the booms and busts occurring at the same months every year? \n",
    "* The distance between the peaks and troughs are getting wider, is this significant? \n",
    "* And if so, what does this tell us about air travel? Is the trend affected by time or not? "
   ]
  },
  {
   "cell_type": "markdown",
   "metadata": {
    "slideshow": {
     "slide_type": "subslide"
    }
   },
   "source": [
    "## Time Series (Not-so-Friendly) Analysis\n",
    "\n",
    "Answering all of these questions requires more than visuals. So you will be exposed to some formulation and math!\n",
    "\n",
    "Each point $y_t$ in this series can be written as a function of preceding values (up to $p$ periods), shocks, time independent and time dependent parameters: $$y_t = f(y_{t-1}, y_{t-2}, \\dots, y_{t-p}, \\beta, \\theta_t, \\epsilon_t) $$\n",
    "\n",
    "Sometimes we can also add in latent variables to this framework\n",
    "$$y_t = f(y_{t-1}, y_{t-2}, \\dots, y_{t-p}, z_{t-1}, z_{t-2}, \\dots, z_{t-p}, \\beta, \\theta_t, \\epsilon_t) $$\n",
    "\n",
    "We can also add in other time series to this function, expanding the analysis from univariate to multivariate \n"
   ]
  },
  {
   "cell_type": "markdown",
   "metadata": {
    "slideshow": {
     "slide_type": "subslide"
    }
   },
   "source": [
    "## Why not use Logistic Regression (or Other Cool Regressions)?\n",
    "\n",
    "There are lots of issues in time series data that logistic and other standard regressions are unable to address. The two main ones are:\n",
    "\n",
    "* Autocorrelation $\\rightarrow$ observations are dependent on each other (i.e. today is affected by yesterday)\n",
    "* Seasonality $\\rightarrow$ localized trends may re-occur periodically (e.g. more airline passengers in summer than winter)\n",
    "* Latent Variables $\\rightarrow$ throughout time, the above two properties of a time series may change due to a fundamental, but not perfectly measurable, change in the data generating process (e.g. air travel becoming more widespread)\n",
    "\n",
    "The natural response can be: \n",
    "\n",
    "\"But.. but.. if I put the numbers in and add all of these points as features, then my model runs!\"\n",
    "\n",
    "Of course it will run, the computer will run any number you give it. But the inferential value of your output may not be what you expected.\n"
   ]
  },
  {
   "cell_type": "markdown",
   "metadata": {
    "slideshow": {
     "slide_type": "subslide"
    }
   },
   "source": [
    "## Time Series Forecasting\n",
    "\n",
    "After analyzing the time series, we can use the resulting information to do a forecast.\n",
    "\n",
    "Below we fit an ARIMA model onto the air passengers dataset and use insights from this model to forecast two years ahead.\n",
    "\n",
    "<img src=\"figures/airpassengers_forecast.png\" width=\"400\">"
   ]
  },
  {
   "cell_type": "markdown",
   "metadata": {
    "slideshow": {
     "slide_type": "slide"
    }
   },
   "source": [
    "## What Next?\n",
    "\n",
    "We are going to be teaching you how to run time series models. In some cases we will be using these models to gather insights about the data, and also to see the (dis)advantages of using said model. In other cases we will be going one step further and doing a forecast.\n",
    "\n",
    "What are the models?\n",
    "\n",
    "1. Autoregressive Integrated Moving Average (ARIMA) $\\rightarrow$ Gertjan\n",
    "\n",
    "2. State Space Kalman Filtering $\\rightarrow$ Joris\n",
    "\n",
    "3. Neural Networks $\\rightarrow$ Artur\n",
    "\n",
    "After, we will show the Bayesian approach to statistical inference, applicable to any of these models!\n"
   ]
  },
  {
   "cell_type": "markdown",
   "metadata": {
    "slideshow": {
     "slide_type": "slide"
    }
   },
   "source": [
    "\n",
    "## So it's all Work and No Play?\n",
    "\n",
    "![some image](./figures/all_work_no_play.jpg)\n"
   ]
  },
  {
   "cell_type": "markdown",
   "metadata": {
    "slideshow": {
     "slide_type": "slide"
    }
   },
   "source": [
    "## All Work and Some Play\n",
    "\n",
    "| Topic                           | Time          |\n",
    "|---------------------------------|---------------|\n",
    "| Opening Remarks                 | 9:10 - 9:30   |\n",
    "| Introduction                    | 9:30 - 9:45   |\n",
    "| ARIMA                           | 9:45 - 11:00  |\n",
    "| Over-Fitting Issues             | 11:00 - 11:45 |  \n",
    "| Kalman Filters (theory)         | 11:45 - 12:15 |\n",
    "| Lunch                           | 12:15 - 13:00 | \n",
    "| Kalman Filters (exercise)       | 13:00 - 14:00 |\n",
    "| Neural Networks                 | 14:00 - 15:30 |  \n",
    "| Bayesian Statistics             | 15:30 - 16:45 |\n",
    "| Closing and Borrel :)           | 16:45 - 01:30 |"
   ]
  },
  {
   "cell_type": "markdown",
   "metadata": {
    "slideshow": {
     "slide_type": "slide"
    }
   },
   "source": [
    "# Veel plezier!"
   ]
  }
 ],
 "metadata": {
  "celltoolbar": "Slideshow",
  "kernelspec": {
   "display_name": "Python 3",
   "language": "python",
   "name": "python3"
  },
  "language_info": {
   "codemirror_mode": {
    "name": "ipython",
    "version": 3
   },
   "file_extension": ".py",
   "mimetype": "text/x-python",
   "name": "python",
   "nbconvert_exporter": "python",
   "pygments_lexer": "ipython3",
   "version": "3.6.5"
  }
 },
 "nbformat": 4,
 "nbformat_minor": 2
}
